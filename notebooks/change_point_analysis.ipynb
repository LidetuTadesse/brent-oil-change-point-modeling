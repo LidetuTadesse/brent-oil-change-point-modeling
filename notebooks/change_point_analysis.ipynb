{
 "cells": [
  {
   "cell_type": "code",
   "execution_count": null,
   "id": "a58dfe3c",
   "metadata": {},
   "outputs": [
    {
     "name": "stderr",
     "output_type": "stream",
     "text": [
      "WARNING (pytensor.configdefaults): g++ not available, if using conda: `conda install gxx`\n",
      "WARNING (pytensor.configdefaults): g++ not detected!  PyTensor will be unable to compile C-implementations and will default to Python. Performance may be severely degraded. To remove this warning, set PyTensor flags cxx to an empty string.\n"
     ]
    }
   ],
   "source": [
    "# import necessary libraries\n",
    "\n",
    "import numpy as np\n",
    "import pandas as pd\n",
    "import matplotlib.pyplot as plt\n",
    "import pymc as pm\n",
    "import arviz as az\n",
    "\n"
   ]
  },
  {
   "cell_type": "code",
   "execution_count": 3,
   "id": "79c256c5",
   "metadata": {},
   "outputs": [],
   "source": [
    "\n",
    "# Load your data\n",
    "df = pd.read_csv(\"../data/processed/brent_clean.csv\", parse_dates=[\"Date\"])\n",
    "df.set_index(\"Date\", inplace=True)\n",
    "\n",
    "# Compute log returns\n",
    "df[\"log_return\"] = np.log(df[\"Price\"]).diff()\n",
    "log_returns = df[\"log_return\"].dropna()"
   ]
  },
  {
   "cell_type": "markdown",
   "id": "061154ec",
   "metadata": {},
   "source": [
    "## PyMC Model with One Changepoint"
   ]
  },
  {
   "cell_type": "code",
   "execution_count": null,
   "id": "964abbd1",
   "metadata": {},
   "outputs": [
    {
     "name": "stderr",
     "output_type": "stream",
     "text": [
      "Multiprocess sampling (4 chains in 4 jobs)\n",
      "CompoundStep\n",
      ">Metropolis: [cp_index]\n",
      ">NUTS: [mu_1, sigma_1, mu_2, sigma_2]\n"
     ]
    },
    {
     "data": {
      "application/vnd.jupyter.widget-view+json": {
       "model_id": "3973f833201e471ea507b4e9a711e49c",
       "version_major": 2,
       "version_minor": 0
      },
      "text/plain": [
       "Output()"
      ]
     },
     "metadata": {},
     "output_type": "display_data"
    }
   ],
   "source": [
    "# Bayesian Changepoint Detection\n",
    "with pm.Model() as changepoint_model:\n",
    "    # Prior for changepoint location (uniform over time indices)\n",
    "    cp_index = pm.DiscreteUniform(\"cp_index\", lower=0, upper=len(log_returns) - 1)\n",
    "    \n",
    "    # Mean and sigma before changepoint\n",
    "    mu_1 = pm.Normal(\"mu_1\", mu=0, sigma=0.05)\n",
    "    sigma_1 = pm.HalfNormal(\"sigma_1\", sigma=0.05)\n",
    "\n",
    "    # Mean and sigma after changepoint\n",
    "    mu_2 = pm.Normal(\"mu_2\", mu=0, sigma=0.05)\n",
    "    sigma_2 = pm.HalfNormal(\"sigma_2\", sigma=0.05)\n",
    "\n",
    "    # Time index for data\n",
    "    idx = np.arange(len(log_returns))\n",
    "\n",
    "    # Define which mean/sigma applies based on changepoint\n",
    "    mu = pm.math.switch(idx <= cp_index, mu_1, mu_2)\n",
    "    sigma = pm.math.switch(idx <= cp_index, sigma_1, sigma_2)\n",
    "\n",
    "    # Likelihood\n",
    "    obs = pm.Normal(\"obs\", mu=mu, sigma=sigma, observed=log_returns.values)\n",
    "\n",
    "    # Inference\n",
    "    trace = pm.sample(2000, tune=1000, target_accept=0.95, return_inferencedata=True)\n"
   ]
  },
  {
   "cell_type": "markdown",
   "id": "07389c54",
   "metadata": {},
   "source": [
    "## Posterior Plot & Detected Changepoint"
   ]
  },
  {
   "cell_type": "code",
   "execution_count": null,
   "id": "8591690a",
   "metadata": {},
   "outputs": [],
   "source": [
    "# Convert changepoint index to date\n",
    "cp_samples = trace.posterior[\"cp_index\"].values.flatten()\n",
    "cp_mean_idx = int(np.mean(cp_samples))\n",
    "cp_date = log_returns.index[cp_mean_idx]\n",
    "\n",
    "# Plot log returns with changepoint\n",
    "plt.figure(figsize=(15, 5))\n",
    "plt.plot(log_returns.index, log_returns, label=\"Log Returns\")\n",
    "plt.axvline(cp_date, color='red', linestyle='--', label=f\"Changepoint ~ {cp_date.date()}\")\n",
    "plt.title(\"Bayesian Changepoint Detection\")\n",
    "plt.xlabel(\"Date\")\n",
    "plt.ylabel(\"Log Return\")\n",
    "plt.legend()\n",
    "plt.grid(True)\n",
    "plt.tight_layout()\n",
    "plt.show()\n"
   ]
  },
  {
   "cell_type": "markdown",
   "id": "802207c7",
   "metadata": {},
   "source": [
    "## Summarize Posterior"
   ]
  },
  {
   "cell_type": "code",
   "execution_count": null,
   "id": "03ed484c",
   "metadata": {},
   "outputs": [],
   "source": [
    "az.plot_posterior(trace, var_names=[\"cp_index\", \"mu_1\", \"mu_2\", \"sigma_1\", \"sigma_2\"])\n"
   ]
  },
  {
   "cell_type": "markdown",
   "id": "3a4794c6",
   "metadata": {},
   "source": []
  }
 ],
 "metadata": {
  "kernelspec": {
   "display_name": ".venv",
   "language": "python",
   "name": "python3"
  },
  "language_info": {
   "codemirror_mode": {
    "name": "ipython",
    "version": 3
   },
   "file_extension": ".py",
   "mimetype": "text/x-python",
   "name": "python",
   "nbconvert_exporter": "python",
   "pygments_lexer": "ipython3",
   "version": "3.12.7"
  }
 },
 "nbformat": 4,
 "nbformat_minor": 5
}
